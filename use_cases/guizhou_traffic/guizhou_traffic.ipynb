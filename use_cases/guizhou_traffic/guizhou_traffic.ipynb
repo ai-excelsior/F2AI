{
 "cells": [
  {
   "cell_type": "markdown",
   "id": "4cd0effd",
   "metadata": {},
   "source": [
    "<font size=6>Example: guizhou_traffic_prediction</font>"
   ]
  },
  {
   "cell_type": "markdown",
   "id": "ab45671f",
   "metadata": {},
   "source": [
    "<font size=2>`FeatureStore` is a model-agnostic tool aiming to help data scientists and algorithm engineers get rid of tiring data storing and merging tasks.\n",
    "<br> `FeatureStore` not only work on single-dimension data such as classification and prediction, but also work on time-series data.\n",
    "<br> After collecting data, all you need to do is config several straight-forward .yml files, then you can focus on models/algorithms and leave all exhausting preparation to `FeatureStore`.</font>\n",
    "\n",
    "<font size=4> Here we present guizhou traffic prediction mission as traditional ML demo.</font>"
   ]
  },
  {
   "cell_type": "code",
   "execution_count": 5,
   "id": "1832688e",
   "metadata": {},
   "outputs": [],
   "source": [
    "import sys\n",
    "sys.path.append('/Users/zhao123456/Desktop/gitlab/f2ai')"
   ]
  },
  {
   "cell_type": "markdown",
   "id": "995cef00",
   "metadata": {},
   "source": [
    "##### Import packages"
   ]
  },
  {
   "cell_type": "code",
   "execution_count": 6,
   "id": "a79bc2c6",
   "metadata": {},
   "outputs": [],
   "source": [
    "import os\n",
    "import zipfile\n",
    "import tempfile\n",
    "import pandas as pd\n",
    "import numpy as np\n",
    "import pmdarima as pm\n",
    "import matplotlib.pyplot as plt\n",
    "from sklearn.metrics import mean_squared_error\n",
    "from pmdarima.model_selection import train_test_split\n",
    "from aie_feast.common.sampler import GroupFixednbrSampler\n",
    "from aie_feast.common.utils import get_bucket_from_oss_url\n",
    "from aie_feast.featurestore import FeatureStore"
   ]
  },
  {
   "cell_type": "markdown",
   "id": "58f09432",
   "metadata": {},
   "source": [
    "##### Download demo project files from OSS"
   ]
  },
  {
   "cell_type": "code",
   "execution_count": 7,
   "id": "2bccbfd5",
   "metadata": {},
   "outputs": [
    {
     "name": "stdout",
     "output_type": "stream",
     "text": [
      "Project downloaded and saved in /tmp/2ctg3zin/xyz_test_data\n"
     ]
    }
   ],
   "source": [
    "download_from = \"oss://aiexcelsior-shanghai-test/xyz_test_data/guizhou_traffic.zip\"\n",
    "save_path = '/tmp/'\n",
    "save_dir = tempfile.mkdtemp(prefix=save_path)\n",
    "bucket, key = get_bucket_from_oss_url(download_from)\n",
    "dest_zip_filepath = os.path.join(save_dir,key)\n",
    "os.makedirs(os.path.dirname(dest_zip_filepath), exist_ok=True)\n",
    "bucket.get_object_to_file(key, dest_zip_filepath)\n",
    "zipfile.ZipFile(dest_zip_filepath).extractall(dest_zip_filepath.rsplit('/',1)[0])\n",
    "os.remove(dest_zip_filepath)\n",
    "print(f\"Project downloaded and saved in {dest_zip_filepath.rsplit('/',1)[0]}\")"
   ]
  },
  {
   "cell_type": "markdown",
   "id": "3a81e50a",
   "metadata": {},
   "source": [
    "##### Initialize FeatureStore"
   ]
  },
  {
   "cell_type": "code",
   "execution_count": 8,
   "id": "fb8aa761",
   "metadata": {},
   "outputs": [],
   "source": [
    "TIME_COL = 'event_timestamp'\n",
    "fs = FeatureStore(f\"file://{save_dir}/{key.rstrip('.zip')}\")"
   ]
  },
  {
   "cell_type": "code",
   "execution_count": 9,
   "id": "aba76f17",
   "metadata": {},
   "outputs": [
    {
     "name": "stdout",
     "output_type": "stream",
     "text": [
      "labels are: ['travel_time']\n"
     ]
    }
   ],
   "source": [
    "print(f\"labels are: {fs._get_feature_to_use(fs.services['traval_time_prediction_embedding_v1'].get_label_view(fs.label_views))}\")"
   ]
  },
  {
   "cell_type": "code",
   "execution_count": 10,
   "id": "f4870cf8",
   "metadata": {},
   "outputs": [
    {
     "name": "stdout",
     "output_type": "stream",
     "text": [
      "entities are: [Entity(name='link', description=None, join_keys=['link_id'])]\n"
     ]
    }
   ],
   "source": [
    "entities = [fs.entities[entity_name] for entity_name in fs.entities.keys() if entity_name in fs._get_keys_to_join(fs.services['traval_time_prediction_embedding_v1'])]\n",
    "print(f\"entities are: {entities}\")"
   ]
  },
  {
   "cell_type": "markdown",
   "id": "726ee33d",
   "metadata": {},
   "source": [
    "##### Get the time range of available data"
   ]
  },
  {
   "cell_type": "code",
   "execution_count": 11,
   "id": "472f0650",
   "metadata": {},
   "outputs": [
    {
     "name": "stdout",
     "output_type": "stream",
     "text": [
      "Earliest timestamp: 2016-03-01 00:02:00+00:00\n",
      "Latest timestamp: 2016-06-30 08:00:00+00:00\n"
     ]
    }
   ],
   "source": [
    "print(f'Earliest timestamp: {fs.get_latest_entities(\"traval_time_prediction_embedding_v1\")[TIME_COL].min()}')\n",
    "print(f'Latest timestamp: {fs.get_latest_entities(\"traval_time_prediction_embedding_v1\")[TIME_COL].max()}')"
   ]
  },
  {
   "cell_type": "markdown",
   "id": "8e29cde8",
   "metadata": {},
   "source": [
    "##### Using FeatureStore.stats to obtain statistical results for data processing"
   ]
  },
  {
   "cell_type": "code",
   "execution_count": 12,
   "id": "e757b5c6",
   "metadata": {},
   "outputs": [
    {
     "name": "stdout",
     "output_type": "stream",
     "text": [
      "all entities are:                link_id\n",
      "0  9377906284555510514\n"
     ]
    }
   ],
   "source": [
    "unique_entity = fs.stats(\n",
    "        \"traval_time_prediction_embedding_v1\",\n",
    "        fn=\"unique\",\n",
    "        group_key=[],\n",
    "        start=\"2016-03-01\",\n",
    "        end=\"2016-03-31\",\n",
    "        features=entities[0].join_keys,\n",
    "    )\n",
    "print(f\"all entities are: {unique_entity}\")"
   ]
  },
  {
   "cell_type": "markdown",
   "id": "d75c70b7",
   "metadata": {},
   "source": [
    "##### sample and get label data"
   ]
  },
  {
   "cell_type": "code",
   "execution_count": 17,
   "id": "c3aa0204",
   "metadata": {},
   "outputs": [],
   "source": [
    "sample = fs.get_dataset(\n",
    "        service_name=\"traval_time_prediction_embedding_v1\",\n",
    "        sampler=GroupFixednbrSampler(\n",
    "            time_bucket=\"20 minutes\",\n",
    "            stride=4,\n",
    "            group_ids=list(unique_entity['link_id'].map(lambda x : str(x))),\n",
    "            group_names=[\"link_id\"],\n",
    "            start=\"2016-03-01\",\n",
    "            end=\"2016-03-10\",\n",
    "        ),\n",
    "    )\n",
    "ids = sample.to_pytorch()\n",
    "data = fs.get_labels(\"traval_time_prediction_embedding_v1\", ids.entity_index)"
   ]
  },
  {
   "cell_type": "markdown",
   "id": "9cf4adb7",
   "metadata": {},
   "source": [
    "##### Data processing"
   ]
  },
  {
   "cell_type": "code",
   "execution_count": 19,
   "id": "5cda5315",
   "metadata": {},
   "outputs": [
    {
     "name": "stdout",
     "output_type": "stream",
     "text": [
      "(3239, 6)\n"
     ]
    }
   ],
   "source": [
    "data[\"month\"] = data[\"event_timestamp\"].map(lambda x: pd.to_datetime(x).month)\n",
    "data[\"day\"] = data[\"event_timestamp\"].map(lambda x: pd.to_datetime(x).day)\n",
    "data[\"hour\"] = data[\"event_timestamp\"].map(lambda x: pd.to_datetime(x).hour)\n",
    "label_mean = (\n",
    "        data.groupby([\"month\", \"day\", \"hour\"])[\"travel_time\"].mean().droplevel(level=[\"month\", \"day\"])\n",
    "    )\n",
    "data = np.array(label_mean)"
   ]
  },
  {
   "cell_type": "code",
   "execution_count": 20,
   "id": "31eeb3f2",
   "metadata": {},
   "outputs": [
    {
     "name": "stdout",
     "output_type": "stream",
     "text": [
      "[1.47142857 1.53333333 1.68666667 1.35333333 1.5        1.56\n",
      " 2.00666667 1.99333333 1.94666667 1.93333333 1.75333333 1.72\n",
      " 1.71333333 1.5        1.75333333 1.60666667 1.92666667 1.46\n",
      " 1.77333333 1.84666667 1.58666667 1.47333333 1.68       1.31333333\n",
      " 1.39333333 1.89333333 1.45333333 1.64666667 1.2        1.3\n",
      " 1.7        1.5        1.32666667 2.02666667 1.58       1.51333333\n",
      " 1.52       1.48666667 1.68       1.55333333 1.63333333 2.2\n",
      " 1.82       1.38       1.51333333 1.32666667 1.42       1.47333333\n",
      " 1.37333333 1.36       1.34       1.48666667 1.46666667 1.48\n",
      " 1.38666667 2.04       2.61333333 2.10666667 1.59333333 1.7\n",
      " 2.00666667 1.78       1.72       1.88       1.56666667 2.04666667\n",
      " 1.79333333 1.65333333 1.82666667 1.43333333 1.7        1.62\n",
      " 1.44       1.44666667 1.48666667 1.96       1.78666667 1.44666667\n",
      " 1.54666667 1.83333333 1.86       1.74666667 1.78       1.74666667\n",
      " 1.84       1.59333333 1.69333333 1.78666667 1.88       1.82\n",
      " 1.69333333 1.58       1.66       1.54666667 1.87333333 1.48666667\n",
      " 1.78666667 1.56       1.46       1.44666667 1.47333333 1.53333333\n",
      " 1.60666667 1.62666667 1.78666667 1.68666667 1.46666667 1.69333333\n",
      " 1.63333333 1.73333333 1.7        1.8        1.77333333 2.43333333\n",
      " 1.78       1.58       1.52       1.55333333 1.70666667 1.55333333\n",
      " 1.6        1.74666667 1.32666667 1.60666667 1.21333333 1.34666667\n",
      " 1.47333333 1.64666667 1.66666667 1.68666667 1.92666667 1.68666667\n",
      " 1.58       1.52666667 1.81333333 1.56       1.60666667 1.52666667\n",
      " 1.68666667 1.67333333 1.47333333 1.55333333 1.63333333 1.65333333\n",
      " 1.68       1.5        1.42       1.32       1.22666667 1.36666667\n",
      " 1.68666667 1.77333333 1.86666667 1.58666667 1.79333333 1.71333333\n",
      " 1.78       1.80666667 2.05333333 1.60666667 2.12666667 1.88666667\n",
      " 1.54666667 1.88       1.64666667 1.55333333 1.60666667 1.54666667\n",
      " 1.52666667 1.52       1.44       1.28666667 1.40666667 1.43333333\n",
      " 1.38666667 1.69333333 2.03333333 1.79333333 1.59333333 1.66\n",
      " 1.67333333 2.09333333 1.61333333 1.61333333 1.76666667 1.50666667\n",
      " 1.94666667 2.06666667 1.63333333 1.88666667 2.04666667 1.50666667\n",
      " 1.71333333 1.58666667 1.65333333 1.64       1.84666667 1.44666667\n",
      " 1.68666667 1.92666667 2.08666667 1.74666667 1.80666667 1.78\n",
      " 2.1        1.58666667 1.70666667 1.75333333 1.61333333 1.78\n",
      " 2.43333333 1.58666667 1.6        1.5        1.55333333 1.46      ]\n"
     ]
    }
   ],
   "source": [
    "print(data)"
   ]
  },
  {
   "cell_type": "markdown",
   "id": "1b099a9e",
   "metadata": {},
   "source": [
    "##### Split the train/test data  and modeling"
   ]
  },
  {
   "cell_type": "code",
   "execution_count": 21,
   "id": "bdb25511",
   "metadata": {},
   "outputs": [],
   "source": [
    "train, test = train_test_split(data, train_size=200)\n",
    "model = pm.auto_arima(train, max_p=10, max_q=10, max_d=4)\n",
    "forecasts = model.predict(test.shape[0])"
   ]
  },
  {
   "cell_type": "markdown",
   "id": "43a46992",
   "metadata": {},
   "source": [
    "##### Plot figure"
   ]
  },
  {
   "cell_type": "code",
   "execution_count": 34,
   "id": "a8b29e6d",
   "metadata": {},
   "outputs": [
    {
     "data": {
      "text/plain": [
       "[<matplotlib.lines.Line2D at 0x7fa579dfcf70>]"
      ]
     },
     "execution_count": 34,
     "metadata": {},
     "output_type": "execute_result"
    },
    {
     "data": {
      "image/png": "[encoded data removed]",
      "text/plain": [
       "<Figure size 640x480 with 1 Axes>"
      ]
     },
     "metadata": {},
     "output_type": "display_data"
    }
   ],
   "source": [
    "x = np.arange(data.shape[0])\n",
    "plt.figure()\n",
    "plt.plot(x, data, c=\"blue\")\n",
    "plt.plot(x[200:], forecasts, c=\"red\")"
   ]
  },
  {
   "cell_type": "markdown",
   "id": "2ac5047e",
   "metadata": {},
   "source": [
    "##### Model Evaluation"
   ]
  },
  {
   "cell_type": "code",
   "execution_count": 35,
   "id": "e42bb5a7",
   "metadata": {},
   "outputs": [
    {
     "name": "stdout",
     "output_type": "stream",
     "text": [
      "0.06686154465686324\n"
     ]
    }
   ],
   "source": [
    "MSE = mean_squared_error(test, forecasts)\n",
    "print(MSE)"
   ]
  }
 ],
 "metadata": {
  "kernelspec": {
   "display_name": "Python 3 (ipykernel)",
   "language": "python",
   "name": "python3"
  },
  "language_info": {
   "codemirror_mode": {
    "name": "ipython",
    "version": 3
   },
   "file_extension": ".py",
   "mimetype": "text/x-python",
   "name": "python",
   "nbconvert_exporter": "python",
   "pygments_lexer": "ipython3",
   "version": "3.10.4"
  }
 },
 "nbformat": 4,
 "nbformat_minor": 5
}
